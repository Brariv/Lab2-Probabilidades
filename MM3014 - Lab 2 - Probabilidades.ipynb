{
 "cells": [
  {
   "attachments": {},
   "cell_type": "markdown",
   "id": "60200b30",
   "metadata": {},
   "source": [
    "# Laboratorio 2 - Probabilidades\n",
    "\n",
    "### Instrucciones: Escriba programas en Python para generar todos los posibles resultados de cada experimento aleatorio, filtrar según las condiciones de cada evento y contar para resolver los ejercicios.\n",
    "\n",
    "### Pedro Avila - 23089\n",
    "### Brandon Rivera - 23088"
   ]
  },
  {
   "cell_type": "markdown",
   "id": "4b06e79f",
   "metadata": {},
   "source": [
    "## Ejercicio 1.\n",
    "\n",
    "Suponga que una caja contiene dos monedas de tipo A y una de tipo B. Cuando se lanza una moneda de tipo A, sale cara con probabilidad 1/4, mientras que cuando se lanza una moneda de tipo B, sale cara con probabilidad 3/4. \n",
    "\n",
    "Un experimento aleatorio consiste en elegir al azar una moneda de la urna y lanzarla.\n",
    "\n",
    "Si se sabe que el resultado fue cara, ¿cuál es la probabilidad de que sea una moneda de tipo A?"
   ]
  },
  {
   "cell_type": "code",
   "execution_count": 15,
   "id": "7589f2e6",
   "metadata": {},
   "outputs": [
    {
     "name": "stdout",
     "output_type": "stream",
     "text": [
      "Resultados donde salio cara: \n",
      "[('A', 'H'), ('B', 'H'), ('B', 'H'), ('B', 'H')]\n",
      "Resultados donde se uso la moneda A: \n",
      "[('A', 'H'), ('A', 'T'), ('A', 'T'), ('A', 'T')]\n",
      "Resultados donde salio cara y se uso la moneda A: \n",
      "[('A', 'H')]\n",
      "La probabilidad de que la moneda lanzada sea A dado que salio cara es: \n",
      "0.25\n"
     ]
    }
   ],
   "source": [
    "import itertools as it\n",
    "\n",
    "\n",
    "A = [(\"A\", \"H\"), (\"A\", \"T\"), (\"A\", \"T\"), (\"A\", \"T\"), (\"B\", \"H\"), (\"B\", \"H\"), (\"B\", \"H\"), (\"B\", \"T\")]\n",
    "\n",
    "F = [k for k in A if k[1] == \"H\"]\n",
    "E = [k for k in A if k[0] == \"A\"]\n",
    "Interseccion = [k for k in F if k in E]\n",
    "\n",
    "print(\"Resultados donde salio cara: \")\n",
    "print(F)\n",
    "print(\"Resultados donde se uso la moneda A: \")\n",
    "print(E)\n",
    "print(\"Resultados donde salio cara y se uso la moneda A: \")\n",
    "print(Interseccion)\n",
    "\n",
    "EDadoF = len(Interseccion) / len(F)\n",
    "print(\"La probabilidad de que la moneda lanzada sea A dado que salio cara es: \")\n",
    "print(EDadoF)\n",
    "\n"
   ]
  },
  {
   "cell_type": "markdown",
   "id": "029626f5",
   "metadata": {},
   "source": [
    "## Ejercicio 2.\n",
    "\n",
    "Suponga que se extrae un 10 rojo y un 6 rojo de un mazo estándar de cartas. Luego, un experimento aleatorio consiste en extraer una carta del mazo incompleto. \n",
    "\n",
    "Sean $E$ el evento de que la tarjeta extraída es un 10, $F$ el evento en que la carta extraída es roja y $G$ el evento de que la carta extraída sea un 10 o un 6. \n",
    "\n",
    "Demuestre que $E$ y $F$ no son independientes, pero son condicionalmente independientes$^*$ condicionados a $G$.\n",
    "\n",
    "<small> **Definición**: Dos eventos, $E$ y $F$, son _condicionalmente independientes_ dados $G$ si y solo si, la probabilidad de que ambos eventos ocurran al mismo tiempo, dado que $G$ ya ocurrió, es igual al producto de la probabilidad de que cada evento ocurra individualmente, dado que $G$ ya ocurrió. En símbolos: $$P(E \\cap F \\mid G) = P(E \\mid G)P(F \\mid G)$$<small>"
   ]
  },
  {
   "cell_type": "code",
   "execution_count": null,
   "id": "e67ce71c",
   "metadata": {},
   "outputs": [
    {
     "name": "stdout",
     "output_type": "stream",
     "text": [
      "0.04, 0.0416\n",
      "Son E y F son independites porque False\n",
      "0.25, 0.25\n",
      "Son E Interseccion F y G independites porque True\n"
     ]
    }
   ],
   "source": [
    "import itertools as it\n",
    "Palo = ['Corazones', 'Diamantes', 'Treboles', 'Espadas']\n",
    "Valor = ['2', '3', '4', '5', '6', '7', '8', '9', '10', 'J', 'Q', 'K', 'A']\n",
    "\n",
    "S = set(it.product(Valor, Palo))\n",
    "\n",
    "# No me gustra manejarlo por medio de tuplas, per supongo que es una alternative bastante \"straight-foward\"\n",
    "E = set(card for card in S if card[0] == \"10\")\n",
    "F = set(card for card in S if card[1]==\"Corazones\" or card[1]==\"Diamantes\")\n",
    "G = set(card for card in S if card[0]==\"10\" or card[0]==\"6\")\n",
    "\n",
    "\n",
    "#Intersecciones necesarias\n",
    "\n",
    "Int_EF = E & F\n",
    "Int_EG  = E&G\n",
    "Int_FG  = F&G\n",
    "Int_EFG = F&G&E\n",
    "\n",
    "#Prob necesarias\n",
    "\n",
    "# El 50 es por la reduccion del espacio\n",
    "prob_IntEF= len(Int_EF)/50\n",
    "mult_EF = (len(E)*len(F))/50**2\n",
    "\n",
    "\n",
    "prob_condicional_IntEF_G = len(Int_EFG)/len(G)\n",
    "mult_condicionales = (len(Int_FG)*len(Int_EG))/len(G)**2\n",
    "\n",
    "print(f\"{prob_IntEF}, {mult_EF}\")\n",
    "print(f\"Son E y F son independites porque {prob_IntEF==mult_EF}\")\n",
    "\n",
    "print(f\"{prob_condicional_IntEF_G}, {mult_condicionales}\")\n",
    "print(f\"Son E Interseccion F y G independites porque {prob_condicional_IntEF_G==mult_condicionales}\")\n",
    "\n"
   ]
  },
  {
   "cell_type": "markdown",
   "id": "d3df9906",
   "metadata": {},
   "source": [
    "## Ejercicio 3. \n",
    "Un experimento aleatorio consiste en extraer tres cartas con reemplazo$^*$ de un mazo estándar de 52 cartas. \n",
    "\n",
    "Sean $E$ el evento de que la carta 1 y la carta 2 tienen el mismo palo; $F$ el evento que la carta 2 y la\n",
    "carta 3 tienen el mismo palo y $G$ sea el evento de que la carta 1 y la carta 3 tienen el mismo palo. \n",
    "\n",
    "Demuestre que estos eventos son independientes por pares, pero no independientes.\n",
    "\n",
    "<small> $^*$ Se extrae una carta, se toma nota y se regresa al mazo, se mezclan las cartas, se extrae la siguiente, se toma nota, se mezclan, y se extrae la tercera. <small>"
   ]
  },
  {
   "cell_type": "code",
   "execution_count": null,
   "id": "1783e7a9",
   "metadata": {},
   "outputs": [
    {
     "name": "stdout",
     "output_type": "stream",
     "text": [
      "0.0027149321266968325\n",
      "0.0035294117647058825\n",
      "0.0035294117647058825\n"
     ]
    }
   ],
   "source": [
    "import itertools as it\n",
    "import random\n",
    "\n",
    "\n",
    "Palo = ['Corazones', 'Diamantes', 'Trevoles', 'Espadas']\n",
    "Valor = ['2', '3', '4', '5', '6', '7', '8', '9', '10', 'J', 'Q', 'K', 'A']\n",
    "A = list(it.product(Valor, Palo))\n",
    "\n",
    "# X1 = random.choice(A)\n",
    "# X2 = random.choice(A)\n",
    "# X3 = random.choice(A)\n",
    "\n",
    "# print(X1)\n",
    "# print(X2)\n",
    "# print(X3)\n",
    "\n",
    "\n",
    "E = 13/52 + 13/52 + 1/52\n"
   ]
  },
  {
   "attachments": {},
   "cell_type": "markdown",
   "id": "5cc4f0ab",
   "metadata": {},
   "source": [
    "## Ejercicio 4.\n",
    "\n",
    "Supongamos que la caja 1 contiene una pelota blanca y cuatro rojas, la caja 2 contiene dos pelotas blancas y tres rojas, y la caja 3 contiene tres pelotas blancas y dos rojas. En un experimento, se selecciona al azar una caja y, luego, se escogen tres pelotas. \n",
    "\n",
    "a. Si se sabe que la caja 1 no ha sido seleccionada, ¿cuál es la probabilidad de escoger exactamente dos pelotas rojas?\n",
    "b. Determine qué es más probable: salgan exactamente dos pelotas rojas o que salgan más pelotas blancas que rojas.\n",
    "c. Si se sabe que han salido exactamente dos pelotas rojas, ¿cuál es la probabilidad de que se haya escogido la caja 3?"
   ]
  },
  {
   "cell_type": "code",
   "execution_count": 92,
   "id": "fb2d8387",
   "metadata": {},
   "outputs": [
    {
     "name": "stdout",
     "output_type": "stream",
     "text": [
      "a)\n",
      "probablidad condicional 0.25\n",
      "b)\n",
      "Probablidad de dos peltoas rojas 0.375\n",
      "Probablidad de mas blancas que rojas 0.5\n",
      "C)\n",
      "Probabilidad de que se haya escogido la caja 3 sabiendo que salieron dos pelotas rojas: 0.021333333333333333\n"
     ]
    }
   ],
   "source": [
    "import itertools as it\n",
    "from collections import Counter\n",
    "\n",
    "caja_1 = [\"blanca\", \"roja\", \"roja\", \"roja\", \"roja\"]\n",
    "caja_2 = [\"blanca\",\"blanca\",\"roja\",\"roja\",\"roja\"]\n",
    "caja_3 = [\"blanca\",\"blanca\",\"blanca\",\"roja\",\"roja\"]\n",
    "\n",
    "S  = set(it.product(caja_1,caja_2,caja_3))\n",
    "\n",
    "print(\"a)\")\n",
    "\n",
    "#reduzcamos el espacio muestral\n",
    "S_not_caja1 = set(it.product(caja_2, caja_3))\n",
    "\n",
    "dos_rojas = set(event for event in S_not_caja1 if sum(1 for x in event if x == \"roja\") == 2)\n",
    "\n",
    "prob_int = len(S_not_caja1 & dos_rojas)\n",
    "prob_S_not_caja1 = len(S_not_caja1)\n",
    "\n",
    "prob_cond_S_not_caj1_and_dos_rojas = prob_int/prob_S_not_caja1\n",
    "print(f\"probablidad condicional {prob_cond_S_not_caj1_and_dos_rojas}\")\n",
    "\n",
    "print(\"b)\")\n",
    "\n",
    "two_red_balls = set(\n",
    "    event for event in S if dict(Counter(event)).get(\"roja\",0) == 2 \n",
    "    )\n",
    "\n",
    "more_whites_than_reds = set(\n",
    "    event for event in S if dict(Counter(event)).get(\"roja\", 0) < dict(Counter(event)).get(\"blanca\", 0)\n",
    ")\n",
    "\n",
    "prob_two_red_balls = len(two_red_balls)/len(S)\n",
    "\n",
    "prob_more_whites_than_red = len(more_whites_than_reds)/len(S)\n",
    "\n",
    "print(f\"Probablidad de dos peltoas rojas {prob_two_red_balls}\")\n",
    "\n",
    "print(f\"Probablidad de mas blancas que rojas {prob_more_whites_than_red}\")\n",
    "\n",
    "print(\"C)\")\n",
    "P_A3 = 1 / 3\n",
    "\n",
    "events_in_caja_3 = set(\n",
    "    event for event in it.product(caja_3, caja_3, caja_3) if sum(1 for x in event if x == \"roja\") == 2\n",
    ")\n",
    "\n",
    "P_B_given_A3 = len(events_in_caja_3) / len(list(it.product(caja_3, caja_3, caja_3)))\n",
    "\n",
    "P_B = prob_two_red_balls\n",
    "\n",
    "P_A3_given_B = (P_B_given_A3 * P_A3) / P_B\n",
    "\n",
    "print(f\"Probabilidad de que se haya escogido la caja 3 sabiendo que salieron dos pelotas rojas: {P_A3_given_B}\")\n"
   ]
  }
 ],
 "metadata": {
  "kernelspec": {
   "display_name": "Lab2-Probabilidades",
   "language": "python",
   "name": "python3"
  },
  "language_info": {
   "codemirror_mode": {
    "name": "ipython",
    "version": 3
   },
   "file_extension": ".py",
   "mimetype": "text/x-python",
   "name": "python",
   "nbconvert_exporter": "python",
   "pygments_lexer": "ipython3",
   "version": "3.13.1"
  }
 },
 "nbformat": 4,
 "nbformat_minor": 5
}
